{
  "nbformat": 4,
  "nbformat_minor": 0,
  "metadata": {
    "colab": {
      "name": "TensorFlow_Object_Detection.ipynb",
      "provenance": [],
      "collapsed_sections": [],
      "machine_shape": "hm",
      "authorship_tag": "ABX9TyM71bR4PVqRaRjCJv/0S6me",
      "include_colab_link": true
    },
    "kernelspec": {
      "name": "python3",
      "display_name": "Python 3"
    },
    "language_info": {
      "name": "python"
    },
    "accelerator": "GPU"
  },
  "cells": [
    {
      "cell_type": "markdown",
      "metadata": {
        "id": "view-in-github",
        "colab_type": "text"
      },
      "source": [
        "<a href=\"https://colab.research.google.com/github/chris-kehl/Coursera_Computer_Vision/blob/main/TensorFlow_Object_Detection.ipynb\" target=\"_parent\"><img src=\"https://colab.research.google.com/assets/colab-badge.svg\" alt=\"Open In Colab\"/></a>"
      ]
    },
    {
      "cell_type": "markdown",
      "source": [
        "Simple object detection in TensorFlow\n",
        "\n",
        "*   explore the TensorFlow hub for object detection models. \n",
        "*   load models in your workspace\n",
        "*   preprocess and image in inference\n",
        "*   run inference on models and inspect the output\n",
        "\n",
        "\n",
        "\n"
      ],
      "metadata": {
        "id": "3m7scfmxK1L3"
      }
    },
    {
      "cell_type": "code",
      "execution_count": 1,
      "metadata": {
        "id": "bAl5yruyKpUa"
      },
      "outputs": [],
      "source": [
        "# Import models\n",
        "import tensorflow as tf\n",
        "import tensorflow_hub as hub\n",
        "from PIL import Image\n",
        "from PIL import ImageOps\n",
        "import tempfile\n",
        "from six.moves.urllib.request import urlopen\n",
        "from six import BytesIO"
      ]
    },
    {
      "cell_type": "markdown",
      "source": [
        "**Download the model from Tensorflow Hub**\n",
        "\n",
        "*   Look at the image object detection subcategory\n",
        "*   Select a inception resnet version 2 model\n",
        "*   Select a mobilenet version 2 model"
      ],
      "metadata": {
        "id": "dXDeok3NMFCO"
      }
    },
    {
      "cell_type": "code",
      "source": [
        "# inception resnet version 2\n",
        "module_handle = \"https://tfhub.dev/google/faster_rcnn/openimages_v4/inception_resnet_v2/1\""
      ],
      "metadata": {
        "id": "s64vltoNMvWw"
      },
      "execution_count": 2,
      "outputs": []
    },
    {
      "cell_type": "markdown",
      "source": [
        "**Load the model**"
      ],
      "metadata": {
        "id": "1Sua2vSWNQNF"
      }
    },
    {
      "cell_type": "code",
      "source": [
        "model = hub.load(module_handle)"
      ],
      "metadata": {
        "colab": {
          "base_uri": "https://localhost:8080/"
        },
        "id": "GjgebHBkNPS0",
        "outputId": "1497c825-e043-43fa-e2fa-d8217eeca040"
      },
      "execution_count": 3,
      "outputs": [
        {
          "output_type": "stream",
          "name": "stdout",
          "text": [
            "INFO:tensorflow:Saver not created because there are no variables in the graph to restore\n"
          ]
        },
        {
          "output_type": "stream",
          "name": "stderr",
          "text": [
            "INFO:tensorflow:Saver not created because there are no variables in the graph to restore\n"
          ]
        }
      ]
    },
    {
      "cell_type": "markdown",
      "source": [
        "**Choose the default signature**\n",
        "\n",
        "Show what signature to use when running the model."
      ],
      "metadata": {
        "id": "mw9GXuh4NoDy"
      }
    },
    {
      "cell_type": "code",
      "source": [
        "# take a look at the available signatures for this particular model\n",
        "model.signatures.keys()"
      ],
      "metadata": {
        "colab": {
          "base_uri": "https://localhost:8080/"
        },
        "id": "pateP1fAODub",
        "outputId": "70af9328-2bf4-41e8-97a3-e71d9057a7cd"
      },
      "execution_count": 4,
      "outputs": [
        {
          "output_type": "execute_result",
          "data": {
            "text/plain": [
              "KeysView(_SignatureMap({'default': <ConcreteFunction pruned(images) at 0x7F2F9E336E90>}))"
            ]
          },
          "metadata": {},
          "execution_count": 4
        }
      ]
    },
    {
      "cell_type": "markdown",
      "source": [
        "Chose the default signature for object detection.  \n",
        "\n",
        "*   For object detection its default signature will accept a batch of image tensors and output a dictionary describing the objects detected, which is what you'll want here."
      ],
      "metadata": {
        "id": "LnRUzOgbOYjv"
      }
    },
    {
      "cell_type": "code",
      "source": [
        "detector = model.signatures['default']"
      ],
      "metadata": {
        "id": "XH66lbgcPBG3"
      },
      "execution_count": 5,
      "outputs": []
    },
    {
      "cell_type": "markdown",
      "source": [
        "**download and resize image**\n",
        "\n",
        "This function downloads an image specified by a given \"url\", preprocess it, and then saves it to disk."
      ],
      "metadata": {
        "id": "25alV7YJPJNm"
      }
    },
    {
      "cell_type": "code",
      "source": [
        "'''\n",
        "Fetches an image online, resizes it and saves it locally.\n",
        "\n",
        "Args:\n",
        "    url (string) -- link to the image\n",
        "    new_width (int) -- size in pixels used for resizing the width of an image.\n",
        "    new_height (int) -- size in pixels used for resizing the length of an image.\n",
        "\n",
        "Returns:\n",
        "    (string) -- path to the saved image\n",
        "'''\n",
        "def download_and_resize_image(url, new_width=256, new_height=256):\n",
        "    # create a temporary file ending with \".jpg\"\n",
        "    _, filename = tempfile.mkstemp(suffix=\".jpg\")\n",
        "    # opens the given URL\n",
        "    response = urlopen(url)\n",
        "    # reads the image data in memory buffer\n",
        "    image_data = response.read()\n",
        "    # puts the image data in memory buffer\n",
        "    image_data = BytesIO(image_data)\n",
        "    # opens the image\n",
        "    pil_image = Image.open(image_data)\n",
        "    # resizes the image. Crop if aspect ratio is different\n",
        "    pil_image = ImageOps.fit(pil_image, (new_width, new_height), Image.ANTIALIAS)\n",
        "    # converts to the RGB colorspace\n",
        "    pil_image_rgb = pil_image.convert(\"RGB\")\n",
        "    # saves the image to the temporary file created earlier\n",
        "    pil_image_rgb.save(filename, format=\"JPEG\", quality=90)\n",
        "\n",
        "    print(\"Image downloaded to %s.\" % filename)\n",
        "\n",
        "    return filename"
      ],
      "metadata": {
        "id": "QMBZjwflPdCm"
      },
      "execution_count": 8,
      "outputs": []
    },
    {
      "cell_type": "markdown",
      "source": [
        "**Download and preprocess an image**\n",
        "\n",
        "use download_and_resize_image to get a sample image online and save it locally. "
      ],
      "metadata": {
        "id": "YRRdoEWbT1we"
      }
    },
    {
      "cell_type": "code",
      "source": [
        "image_url = \"https://upload.wikimedia.org/wikipedia/commons/f/fb/20130807_dublin014.JPG\"\n",
        "# download using the original height and width\n",
        "downloaded_image_path = download_and_resize_image(image_url, 3872, 2592)"
      ],
      "metadata": {
        "colab": {
          "base_uri": "https://localhost:8080/"
        },
        "id": "WRvPYNTUVUrz",
        "outputId": "ddf64e6b-e98a-4c56-db6b-5626df8bff5d"
      },
      "execution_count": 9,
      "outputs": [
        {
          "output_type": "stream",
          "name": "stdout",
          "text": [
            "Image downloaded to /tmp/tmp7d30lwid.jpg.\n"
          ]
        }
      ]
    },
    {
      "cell_type": "markdown",
      "source": [
        "**run_detector**\n",
        "\n",
        "This function will take in the object detection model detector and the path to a sample image, then use the model to detect objects and display its predicted class categories and detection boxes\n",
        "\n",
        "run_detector uses load_image to convert the image into a tensor"
      ],
      "metadata": {
        "id": "WIcraP65WlBW"
      }
    },
    {
      "cell_type": "code",
      "source": [
        "'''\n",
        "Loads a JPEG image and converts it to a tensor.\n",
        "\n",
        "Args:\n",
        "    Path (string) -- path to a locally saved JPEG\n",
        "Returns:\n",
        "    (tensor) -- an image tensor\n",
        "'''\n",
        "\n",
        "def load_img(path):\n",
        "    # read the file\n",
        "    img = tf.io.read_file(path)\n",
        "    # convert to a tensor\n",
        "    img = tf.image.decode_jpeg(img, channels=3)\n",
        "    return img\n",
        "\n",
        "'''\n",
        "run_detector runs inference on a local file using an object detection model.\n",
        "\n",
        "Args:\n",
        "    detector (model) -- an object detection model loaded from the TF Hub\n",
        "    path (string) -- path to an image saved locally\n",
        "'''\n",
        "def run_detector(detector, path):\n",
        "# load an image tensor from a local file path\n",
        "    img = load_img(path)\n",
        "\n",
        "    # add a batch dimension in front of the tensor\n",
        "    converted_img = tf.image.convert_image_dtype(img, tf.float32)[tf.newaxis, ...]\n",
        "\n",
        "    # run inference using the modle\n",
        "    result = detector(converted_img)\n",
        "\n",
        "    # Save the results in a dictionary\n",
        "    result = {key:value.numpy() for key,value in result.items()}\n",
        "\n",
        "    # print results\n",
        "    print(\"Found %d objects.\" % len(result[\"detection_scores\"]))\n",
        "\n",
        "    print(result[\"detection_scores\"])\n",
        "    print(result[\"detection_class_entities\"])\n",
        "    print(result[\"detection_boxes\"])"
      ],
      "metadata": {
        "id": "arRC4-p9XR5u"
      },
      "execution_count": 11,
      "outputs": []
    },
    {
      "cell_type": "markdown",
      "source": [
        "**Run Inference on the image**\n",
        "\n",
        "\n",
        "\n",
        "*   Print the number of objects found followed by three lists\n",
        "    *   The detection scores of each object found\n",
        "    *   The class of each object found\n",
        "    *   The bounding boxes of each object\n",
        "\n",
        "\n",
        "\n",
        "\n"
      ],
      "metadata": {
        "id": "U1CzrIZabcwd"
      }
    },
    {
      "cell_type": "code",
      "source": [
        "run_detector(detector, downloaded_image_path)"
      ],
      "metadata": {
        "colab": {
          "base_uri": "https://localhost:8080/"
        },
        "id": "brMukVDybJk0",
        "outputId": "4df706e3-c7b3-4a23-c914-a157f8d7742e"
      },
      "execution_count": 13,
      "outputs": [
        {
          "output_type": "stream",
          "name": "stdout",
          "text": [
            "Found 100 objects.\n",
            "[0.65321714 0.6105055  0.60152465 0.59255624 0.5917768  0.58154947\n",
            " 0.5505308  0.49575484 0.47424984 0.47322112 0.44066438 0.40511352\n",
            " 0.3980382  0.39406413 0.3714846  0.3615593  0.3615083  0.34689054\n",
            " 0.33362454 0.31252864 0.28878096 0.25758332 0.25748888 0.25196084\n",
            " 0.24782084 0.23412465 0.20432039 0.20324546 0.1798825  0.1796485\n",
            " 0.17374535 0.16431475 0.16031165 0.15895209 0.15620255 0.15468812\n",
            " 0.14754422 0.13622648 0.12740108 0.12555623 0.12102751 0.11813115\n",
            " 0.11387312 0.11229102 0.11129206 0.09718706 0.09137283 0.08975969\n",
            " 0.08880271 0.08633585 0.08337469 0.0809515  0.07988653 0.07741486\n",
            " 0.07732126 0.07631026 0.07507819 0.07386063 0.07233284 0.07204071\n",
            " 0.0711016  0.06935622 0.06825593 0.06427879 0.06248593 0.06226419\n",
            " 0.06211162 0.05940076 0.05798756 0.05784443 0.05725611 0.05346691\n",
            " 0.05304342 0.0524287  0.04892577 0.04813066 0.0457845  0.04424164\n",
            " 0.04337563 0.0427781  0.04262616 0.04163295 0.04081752 0.03975986\n",
            " 0.03946014 0.03944279 0.03864    0.0376908  0.03759594 0.03566696\n",
            " 0.03359377 0.03333247 0.03275885 0.03231593 0.03134308 0.02978715\n",
            " 0.02858361 0.02856129 0.02822307 0.02787888]\n",
            "[b'Person' b'Person' b'Person' b'Person' b'Footwear' b'Person' b'Building'\n",
            " b'Bicycle' b'Window' b'Building' b'Person' b'Wheel' b'Building'\n",
            " b'Building' b'Person' b'Wheel' b'Building' b'Window' b'Window'\n",
            " b'Building' b'Person' b'Van' b'Person' b'Bicycle wheel' b'Person'\n",
            " b'Window' b'Window' b'Bicycle' b'Building' b'Window' b'Window' b'Man'\n",
            " b'Person' b'Person' b'Woman' b'Clothing' b'Bicycle wheel' b'Window'\n",
            " b'Person' b'Window' b'Land vehicle' b'Land vehicle' b'Clothing'\n",
            " b'Bicycle' b'Window' b'House' b'Land vehicle' b'Land vehicle' b'House'\n",
            " b'Man' b'Window' b'Clothing' b'Footwear' b'Person' b'Window' b'Man'\n",
            " b'Man' b'House' b'Person' b'Building' b'Clothing' b'Window' b'Person'\n",
            " b'Jeans' b'Man' b'Furniture' b'Person' b'Person' b'Person'\n",
            " b'Land vehicle' b'Person' b'Window' b'House' b'Woman' b'Window' b'Man'\n",
            " b'Person' b'Man' b'Clothing' b'Bicycle' b'Man' b'Person' b'Window'\n",
            " b'Person' b'Car' b'Man' b'Car' b'Chair' b'House' b'Window' b'Clothing'\n",
            " b'Tire' b'Clothing' b'Window' b'Land vehicle' b'Window' b'Man' b'Window'\n",
            " b'Bus' b'Clothing']\n",
            "[[5.12787819e-01 5.29258847e-01 6.01622581e-01 5.52077651e-01]\n",
            " [5.19631088e-01 6.01512730e-01 6.46177113e-01 6.34626746e-01]\n",
            " [5.05507112e-01 5.00440836e-01 6.01288378e-01 5.23084342e-01]\n",
            " [4.86331582e-01 4.12729561e-01 6.78829789e-01 4.59919751e-01]\n",
            " [8.15191388e-01 9.56122220e-01 8.42702985e-01 9.87146080e-01]\n",
            " [4.95409876e-01 9.23548341e-01 8.35687876e-01 9.99051571e-01]\n",
            " [1.14791868e-02 1.22224605e-02 7.38669872e-01 4.24632818e-01]\n",
            " [5.77677369e-01 3.66453379e-01 7.12771654e-01 4.83375698e-01]\n",
            " [0.00000000e+00 1.19262353e-01 2.23896131e-01 1.83930472e-01]\n",
            " [7.74121135e-02 4.12998140e-01 5.79539955e-01 5.60446203e-01]\n",
            " [5.13818145e-01 7.48031378e-01 5.91993213e-01 7.66611278e-01]\n",
            " [6.32137895e-01 3.59925479e-01 7.03870296e-01 4.11826164e-01]\n",
            " [0.00000000e+00 7.97051966e-01 6.73368573e-01 1.00000000e+00]\n",
            " [1.60233825e-02 6.84869587e-01 5.58761537e-01 8.11167955e-01]\n",
            " [5.00276983e-01 3.76966298e-01 6.33272946e-01 4.14501339e-01]\n",
            " [6.40540302e-01 4.45089400e-01 7.02983618e-01 4.83437657e-01]\n",
            " [0.00000000e+00 2.19054192e-01 6.60401046e-01 4.33263481e-01]\n",
            " [1.93079002e-03 0.00000000e+00 1.39376864e-01 2.62956955e-02]\n",
            " [2.57196440e-03 9.66668665e-01 1.53728664e-01 1.00000000e+00]\n",
            " [5.57225547e-04 1.52054860e-03 7.65210569e-01 2.69977093e-01]\n",
            " [5.04524827e-01 3.61187756e-01 6.34731770e-01 3.85342211e-01]\n",
            " [4.83405888e-01 6.19650841e-01 5.62705696e-01 6.61556125e-01]\n",
            " [4.98067319e-01 3.64576191e-01 6.61239445e-01 4.04972345e-01]\n",
            " [6.31278813e-01 3.60364169e-01 7.04153776e-01 4.11501348e-01]\n",
            " [5.21813869e-01 5.77647567e-01 5.87599933e-01 6.00718856e-01]\n",
            " [2.19569609e-01 3.48744750e-01 3.38372618e-01 3.77075404e-01]\n",
            " [1.24863066e-01 2.50912935e-01 2.79940903e-01 2.81580776e-01]\n",
            " [5.77186048e-01 3.62296671e-01 7.07020819e-01 4.41810846e-01]\n",
            " [2.57474422e-01 5.67561567e-01 5.31102896e-01 6.87727273e-01]\n",
            " [4.20639291e-02 8.74773145e-01 2.52773494e-01 9.13028836e-01]\n",
            " [1.56351030e-01 4.43401158e-01 2.22213194e-01 4.75786090e-01]\n",
            " [5.01967967e-01 9.21486855e-01 8.36406767e-01 1.00000000e+00]\n",
            " [5.23622513e-01 5.70259511e-01 5.84519506e-01 5.91583431e-01]\n",
            " [5.13246357e-01 6.79276526e-01 5.50994575e-01 6.92579985e-01]\n",
            " [5.19120216e-01 5.99985421e-01 6.46378398e-01 6.34036481e-01]\n",
            " [5.24297774e-01 9.24962044e-01 8.10777128e-01 9.97999549e-01]\n",
            " [6.38187289e-01 4.42918181e-01 7.01653838e-01 4.84097779e-01]\n",
            " [3.42190675e-02 3.55574757e-01 1.62255064e-01 3.74921143e-01]\n",
            " [4.88476783e-01 4.53496963e-01 6.21795475e-01 4.79725718e-01]\n",
            " [9.28796129e-04 3.07699054e-01 1.06533393e-01 3.32059622e-01]\n",
            " [4.83008981e-01 6.19908273e-01 5.64775169e-01 6.60696924e-01]\n",
            " [5.82192779e-01 3.64929765e-01 7.13880658e-01 4.84707862e-01]\n",
            " [5.23547709e-01 7.49199331e-01 5.85378051e-01 7.65317559e-01]\n",
            " [6.09156847e-01 4.26705897e-01 7.05165267e-01 4.87089008e-01]\n",
            " [3.51368606e-01 9.74856079e-01 5.53130627e-01 9.98878717e-01]\n",
            " [0.00000000e+00 8.11223328e-01 6.86410725e-01 9.97151434e-01]\n",
            " [5.76297581e-01 3.57461840e-01 7.04812288e-01 4.40279603e-01]\n",
            " [5.64892411e-01 3.63023102e-01 7.08650231e-01 4.16036338e-01]\n",
            " [1.09374998e-02 2.33156346e-02 7.26522982e-01 4.21747655e-01]\n",
            " [4.84686643e-01 4.10685986e-01 6.94686472e-01 4.63092804e-01]\n",
            " [8.09777230e-02 3.84715289e-01 2.07808733e-01 4.11746383e-01]\n",
            " [5.38284421e-01 6.03573740e-01 6.34776115e-01 6.34408653e-01]\n",
            " [6.29844606e-01 6.14971459e-01 6.44933462e-01 6.25384331e-01]\n",
            " [5.02758026e-01 3.82395953e-01 5.96146226e-01 4.12722319e-01]\n",
            " [0.00000000e+00 1.24522978e-02 1.40193507e-01 2.47382112e-02]\n",
            " [5.14441371e-01 7.47791529e-01 5.91985822e-01 7.66827404e-01]\n",
            " [5.06182134e-01 5.00406921e-01 6.00681305e-01 5.23312032e-01]\n",
            " [0.00000000e+00 2.11283550e-01 6.50794208e-01 4.34300780e-01]\n",
            " [4.89451498e-01 4.54391301e-01 5.72340131e-01 4.76470768e-01]\n",
            " [0.00000000e+00 7.06216037e-01 6.16998792e-01 8.66189718e-01]\n",
            " [5.09172916e-01 4.16281193e-01 6.69304490e-01 4.59598720e-01]\n",
            " [4.65171831e-03 8.03094208e-01 1.59853593e-01 8.40397060e-01]\n",
            " [5.26151061e-01 5.68352938e-01 5.79440296e-01 5.82810223e-01]\n",
            " [6.71924829e-01 9.40277696e-01 8.21276009e-01 9.89250779e-01]\n",
            " [5.02770185e-01 3.73883098e-01 6.46991491e-01 4.12972301e-01]\n",
            " [5.74243903e-01 2.67400861e-01 6.57769084e-01 3.20318550e-01]\n",
            " [4.86056775e-01 4.44508791e-01 6.24788880e-01 4.73503351e-01]\n",
            " [5.17248988e-01 7.56969213e-01 5.88517189e-01 7.71465480e-01]\n",
            " [5.23374975e-01 5.57850122e-01 5.79139471e-01 5.73541522e-01]\n",
            " [6.12461030e-01 4.27332491e-01 7.06080198e-01 4.88251835e-01]\n",
            " [5.24124086e-01 5.61553180e-01 5.78385353e-01 5.80475152e-01]\n",
            " [0.00000000e+00 2.44231775e-01 6.07754774e-02 2.93613434e-01]\n",
            " [1.48921208e-02 2.14735116e-03 7.45441973e-01 2.59790659e-01]\n",
            " [4.93236095e-01 9.23950195e-01 8.37110817e-01 9.97755051e-01]\n",
            " [8.37684609e-03 2.42165729e-01 4.97285202e-02 2.83162564e-01]\n",
            " [5.05334914e-01 3.60175282e-01 6.43561006e-01 3.91461790e-01]\n",
            " [5.13099134e-01 5.23794115e-01 6.00504339e-01 5.42968035e-01]\n",
            " [5.20421386e-01 6.00978673e-01 6.46124065e-01 6.34366393e-01]\n",
            " [5.18224895e-01 5.03395557e-01 5.97548723e-01 5.22683859e-01]\n",
            " [5.94199121e-01 3.61327976e-01 7.05465913e-01 4.15853351e-01]\n",
            " [5.13256371e-01 6.79317057e-01 5.50534010e-01 6.92482233e-01]\n",
            " [5.22302806e-01 5.36195457e-01 5.97564995e-01 5.53163230e-01]\n",
            " [4.29876357e-01 8.28702271e-01 5.89928269e-01 8.64323139e-01]\n",
            " [5.04884660e-01 3.89426976e-01 6.15080774e-01 4.19936091e-01]\n",
            " [5.26588559e-01 6.27176881e-01 5.63299775e-01 6.53728902e-01]\n",
            " [5.01304924e-01 3.64189029e-01 6.59964740e-01 4.03793275e-01]\n",
            " [5.15171230e-01 6.24104798e-01 5.63795388e-01 6.58002079e-01]\n",
            " [5.73137999e-01 2.66902626e-01 6.66162074e-01 3.18640202e-01]\n",
            " [8.34235176e-02 4.07414347e-01 5.84092438e-01 5.58522880e-01]\n",
            " [2.88196921e-01 4.77988826e-04 4.14364636e-01 3.65995876e-02]\n",
            " [4.97272849e-01 4.55296665e-01 5.83817124e-01 4.77936029e-01]\n",
            " [6.27168000e-01 3.61024052e-01 7.05996811e-01 4.09780174e-01]\n",
            " [5.15861034e-01 3.80056977e-01 5.96893847e-01 4.11758274e-01]\n",
            " [1.18098101e-02 3.08121800e-01 9.72859487e-02 3.25038970e-01]\n",
            " [5.12501776e-01 6.23653412e-01 5.62422156e-01 6.57641828e-01]\n",
            " [4.01003152e-01 8.85088921e-01 5.81281602e-01 9.39214408e-01]\n",
            " [5.13853252e-01 5.29484570e-01 6.02009714e-01 5.52362800e-01]\n",
            " [0.00000000e+00 1.00606084e-02 1.36156827e-01 3.16007249e-02]\n",
            " [4.80426341e-01 6.20422781e-01 5.65284550e-01 6.60150290e-01]\n",
            " [5.19355476e-01 3.61840427e-01 6.24995410e-01 3.84919703e-01]]\n"
          ]
        }
      ]
    }
  ]
}